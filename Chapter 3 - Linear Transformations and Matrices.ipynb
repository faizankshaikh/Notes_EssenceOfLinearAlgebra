{
 "cells": [
  {
   "cell_type": "markdown",
   "metadata": {},
   "source": [
    "## Matrices as Linear Transformation\n",
    "\n",
    "A transformation is linear if it has two properties\n",
    "* All lines must remain lines\n",
    "* Origin must remain fixed in place\n",
    "\n",
    "![](images/linear_transformation.png)\n",
    "\n",
    "*PS - transformation is a fancy term for function, aka something that takes in the input and spits out the output. But the reason we use it because it suggests movement aka we **move** the input vector to its corresponding output vector*"
   ]
  },
  {
   "cell_type": "markdown",
   "metadata": {},
   "source": [
    "### How would you describe a linear transformation numerically?\n",
    "\n",
    "Answer - You only need to record where the two basis vectors each land. Eg\n",
    "\n",
    "$$v = -1 \\hat i + 2\\hat j$$\n",
    "\n",
    "$$Transformed v = -1 (Transformed \\hat i) + 2 (Transformed \\hat j)$$\n",
    "\n",
    "and $$\\hat i = \\begin{bmatrix} 1 \\\\ -2 \\end{bmatrix} , \\hat j = \\begin{bmatrix} 3 \\\\ 0 \\end{bmatrix}$$\n",
    "\n",
    "So,\n",
    "\n",
    "$$ Transformed v = -1\\begin{bmatrix} 1 \\\\ -2 \\end{bmatrix} + 2\\begin{bmatrix} 3 \\\\ 0 \\end{bmatrix}$$\n",
    "\n",
    "$$=\\begin{bmatrix} 5 \\\\ 2 \\end{bmatrix}$$\n",
    "\n",
    "\n",
    "\n",
    "More generally, \n",
    "\n",
    "![](images/matrix_mul.png)\n",
    "\n",
    "where (a, c) represents where the basis vector $\\hat i$ lands after the transformation, (b, d) represents where the basis vector $\\hat j$ lands after the transformation, and (x, y) is the vector for which you want to calculate the transformation"
   ]
  },
  {
   "cell_type": "code",
   "execution_count": null,
   "metadata": {},
   "outputs": [],
   "source": []
  }
 ],
 "metadata": {
  "kernelspec": {
   "display_name": "Python 3",
   "language": "python",
   "name": "python3"
  },
  "language_info": {
   "codemirror_mode": {
    "name": "ipython",
    "version": 3
   },
   "file_extension": ".py",
   "mimetype": "text/x-python",
   "name": "python",
   "nbconvert_exporter": "python",
   "pygments_lexer": "ipython3",
   "version": "3.7.3"
  }
 },
 "nbformat": 4,
 "nbformat_minor": 2
}
