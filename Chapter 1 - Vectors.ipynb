{
 "cells": [
  {
   "cell_type": "markdown",
   "metadata": {},
   "source": [
    "## [Vectors](https://youtu.be/fNk_zzaMoSs?t=11)\n",
    "\n",
    "> Fundamental building blocks of Linear Algebra\n",
    "\n",
    "![](images/vector.png)"
   ]
  },
  {
   "cell_type": "markdown",
   "metadata": {},
   "source": [
    "## [Three Perspectives of Vector representation](https://youtu.be/fNk_zzaMoSs?t=21)\n",
    "\n",
    "1. Physics -> Arrows pointing in space; defined by length and direction\n",
    "2. CS -> Ordered list of numbers (aka fancy word for list)\n",
    "3. Maths -> Generalizing both Physics and Maths perspectives"
   ]
  },
  {
   "cell_type": "markdown",
   "metadata": {},
   "source": [
    "## [Basic Terminologies](https://youtu.be/fNk_zzaMoSs?t=176)\n",
    "\n",
    "* x-axis -> horizontal line\n",
    "* y-axis -> vertical line\n",
    "* origin -> place where x and y axis intersect\n",
    "* Co-ordinates -> gives instruction on how to get from the tail of the vector from the origin to its tip"
   ]
  },
  {
   "cell_type": "markdown",
   "metadata": {},
   "source": [
    "*PS - For representing co-ordnates, first number represents the x-distance (Positive for leftward motion, negative for rightward motion) and second for y-distance (Positive for upward motion, negative for downward motion)*"
   ]
  },
  {
   "cell_type": "markdown",
   "metadata": {},
   "source": [
    "*PS - Point is written as (1, 2), vector is written as [1, 2]*"
   ]
  },
  {
   "cell_type": "markdown",
   "metadata": {},
   "source": [
    "## [Vector Addition](https://youtu.be/fNk_zzaMoSs?t=289)\n",
    "\n",
    "> To add two vectors, move the second vector so that its tail sits at the tip of the first one; then if you draw a new vector from the tail of the first one to the tip of where the second one now sits, that new vector is their sum.\n",
    "\n",
    "For example,\n",
    "\n",
    "$$\\begin{bmatrix} 1 \\\\ 2 \\end{bmatrix} + \\begin{bmatrix} 3 \\\\ -1 \\end{bmatrix} = \\begin{bmatrix} (1+3) \\\\ (2+(-1)) \\end{bmatrix}$$\n",
    "\n",
    "![](images/vector_sum.png)"
   ]
  },
  {
   "cell_type": "markdown",
   "metadata": {},
   "source": [
    "## [Vector Scaling](https://youtu.be/fNk_zzaMoSs?t=446)\n",
    "\n",
    "> The process of stretching / squishing / reversing the direction of a vector is called scaling\n",
    "\n",
    "![](images/scaling.png)\n",
    "\n",
    "For example,\n",
    "\n",
    "$$ 2 . \\begin{bmatrix} 3 \\\\ 1 \\end{bmatrix} = \\begin{bmatrix} 6 \\\\ 2 \\end{bmatrix}$$\n"
   ]
  },
  {
   "cell_type": "markdown",
   "metadata": {},
   "source": [
    "*PS - The number which scales the vector is called a scalar*\n",
    "\n",
    "*PS - Vector scaling is another name for Vector multiplication*"
   ]
  }
 ],
 "metadata": {
  "kernelspec": {
   "display_name": "Python 3",
   "language": "python",
   "name": "python3"
  },
  "language_info": {
   "codemirror_mode": {
    "name": "ipython",
    "version": 3
   },
   "file_extension": ".py",
   "mimetype": "text/x-python",
   "name": "python",
   "nbconvert_exporter": "python",
   "pygments_lexer": "ipython3",
   "version": "3.7.3"
  }
 },
 "nbformat": 4,
 "nbformat_minor": 2
}
