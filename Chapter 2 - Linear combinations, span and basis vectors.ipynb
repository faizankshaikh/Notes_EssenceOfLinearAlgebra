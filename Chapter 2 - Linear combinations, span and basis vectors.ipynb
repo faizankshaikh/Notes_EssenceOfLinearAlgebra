{
 "cells": [
  {
   "cell_type": "markdown",
   "metadata": {},
   "source": [
    "## Basis Vectors\n",
    "\n",
    "Another way to think about vector co-ordinates. Eg. if you have a pair of numbers ment to describe a vector $\\begin{bmatrix} 3 \\\\ -1 \\end{bmatrix}$, is to think about each co-ordinate as scalars.\n",
    "\n",
    "In xy co-ordinate system, there are two special vectors\n",
    "\n",
    "* $\\hat{i}$ -> The one pointing to the right with length one (aka unit vector in the x direction)\n",
    "\n",
    "* $\\hat{j}$ -> The one pointing up with length one (aka unit vector in the y direction)\n",
    "\n",
    "![](images/basis.png)\n",
    "\n",
    "So the **x co-ordinate** of our example vector $\\begin{bmatrix} 3 \\\\ -1 \\end{bmatrix}$ **is a scalar that scales $\\hat{i}$ stretching it** by a factor of 3, whereas the **y co-ordinate** of our vector **is a scalar that scales $\\hat{j}$, flipping and stretching it** by a factor of 2. The vector these co-ordinates describe is the sum of two scaled vectors\n",
    "\n",
    "![](images/basis_sum.png)\n",
    "\n",
    "$\\hat{i}$ and $\\hat{j}$ are thus called basis vectors. It means that when you think about co-ordinates as scalars, the basis vectors are  what those scalars scale."
   ]
  },
  {
   "cell_type": "markdown",
   "metadata": {},
   "source": [
    "A few intermittent questions -\n",
    "\n",
    "* What if we chose different basis vectors?\n",
    "\n",
    "> A new pair of basis vectors still gives us a valid way to go back and forth between pairs of numbers and two-dimensional vectors, but the association is definitely different from the one that you get using standard basis of $\\hat{i}$ and $\\hat{j}$\n",
    "\n",
    "* What all different vectors can you get by choosing two scalars, using each one to scale one of the vectors, then adding together what you get? Aka, which two dimensional vectors can you reach by altering the choices of scalars?\n",
    "\n",
    "> You can reach every possible two dimensional vectors\n",
    "\n",
    "![](images/different_basis.png)"
   ]
  },
  {
   "cell_type": "markdown",
   "metadata": {},
   "source": [
    "## Linear Combination\n",
    "\n",
    "> Scaling two vectors and adding them is called a linear combination of those two vectors\n",
    "\n",
    "![](images/linear_combination.png)\n",
    "\n",
    "*PS - If you fix one scalars and let the other change its value freely (when linearly combined), the tip of the resultant vector draws a straight line*\n",
    "\n",
    "*PS - If you let both vectors ranage freely and consider every possible vector that you can get, you can either reach every possible point in the plane, or limited to just a single line passing through the origin. (The third possibility is that if both the vectors are zero, you are stuck at the origin)"
   ]
  },
  {
   "cell_type": "markdown",
   "metadata": {},
   "source": [
    "## Span\n",
    "\n",
    "> The set of all possible vectors that you can reach with a linear combination of a pair of vectors is called the span of those two vectors\n",
    "\n",
    "![](images/span.png)"
   ]
  },
  {
   "cell_type": "markdown",
   "metadata": {},
   "source": [
    "## Vectors vs Points\n",
    "\n",
    "When dealing with collection of vectors, it is common to represent each one with just a point in space (the point at the tip of the vector)\n",
    "\n",
    "![](images/vectors_as_arrows.png)\n",
    "\n",
    "![](images/vectors_as_points.png)"
   ]
  },
  {
   "cell_type": "markdown",
   "metadata": {},
   "source": [
    "*PS - What does the span of two 3D vectors look like? -> Flat sheet / plane*\n",
    "\n",
    "\n",
    "*PS - What does the span of three 3D vectors look like? -> Gives access to every point in the 3D space*"
   ]
  },
  {
   "cell_type": "markdown",
   "metadata": {},
   "source": [
    "* Linearly dependent - When multiple vectors where you could remove one without reducing the span, we say that they are linearly dependent. Aka one of the vectors can be expressed as a linear combination of the others\n",
    "\n",
    "![](images/linearly_dependent_vectors.png)\n",
    "\n",
    "\n",
    "* Linearly independent - If each vector adds another dimension to the span, they are said to be linearly independent\n",
    "\n",
    "![](images/linearly_independent_vectors.png)"
   ]
  },
  {
   "cell_type": "markdown",
   "metadata": {},
   "source": [
    "## Technical definition of basis\n",
    "\n",
    "> The basis of a vector space is a set of linearly independent vectors that span the full space"
   ]
  }
 ],
 "metadata": {
  "kernelspec": {
   "display_name": "Python 3",
   "language": "python",
   "name": "python3"
  },
  "language_info": {
   "codemirror_mode": {
    "name": "ipython",
    "version": 3
   },
   "file_extension": ".py",
   "mimetype": "text/x-python",
   "name": "python",
   "nbconvert_exporter": "python",
   "pygments_lexer": "ipython3",
   "version": "3.7.3"
  }
 },
 "nbformat": 4,
 "nbformat_minor": 2
}
