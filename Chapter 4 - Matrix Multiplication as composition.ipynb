{
 "cells": [
  {
   "cell_type": "markdown",
   "metadata": {},
   "source": [
    "*PS - Recap of concepts*"
   ]
  },
  {
   "cell_type": "markdown",
   "metadata": {},
   "source": [
    "## Composition\n",
    "\n",
    "> The effect of applying one linear transformation over other\n",
    "\n",
    "![](images/composition.png)\n",
    "\n",
    "*PS - Reading in a transformation is from right to left*\n",
    "\n",
    "The overall effect, which is symbol heavy, goes like this\n",
    "\n",
    "\n",
    "![](images/composition_symbol.png)\n",
    "\n",
    "*PS - Order of a matrix multiplication aka compostition matters*\n",
    "\n",
    "*PS - Matrix multiplication is associative*"
   ]
  },
  {
   "cell_type": "code",
   "execution_count": null,
   "metadata": {},
   "outputs": [],
   "source": []
  }
 ],
 "metadata": {
  "kernelspec": {
   "display_name": "Python 3",
   "language": "python",
   "name": "python3"
  },
  "language_info": {
   "codemirror_mode": {
    "name": "ipython",
    "version": 3
   },
   "file_extension": ".py",
   "mimetype": "text/x-python",
   "name": "python",
   "nbconvert_exporter": "python",
   "pygments_lexer": "ipython3",
   "version": "3.7.3"
  }
 },
 "nbformat": 4,
 "nbformat_minor": 2
}
